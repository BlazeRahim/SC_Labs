{
  "nbformat": 4,
  "nbformat_minor": 0,
  "metadata": {
    "colab": {
      "provenance": []
    },
    "kernelspec": {
      "name": "python3",
      "display_name": "Python 3"
    },
    "language_info": {
      "name": "python"
    }
  },
  "cells": [
    {
      "cell_type": "code",
      "execution_count": null,
      "metadata": {
        "id": "TuUfg2kvFZPv"
      },
      "outputs": [],
      "source": [
        "import tensorflow as tf\n",
        "import numpy as np"
      ]
    },
    {
      "cell_type": "code",
      "source": [
        "# Linear Activation Function\n",
        "def linear(x):\n",
        "    return x\n",
        "\n",
        "# First Order Derivative of Linear Activation Function\n",
        "def linear_derivative(x):\n",
        "    with tf.GradientTape() as tape:\n",
        "        tape.watch(x)\n",
        "        y = linear(x)\n",
        "    return tape.gradient(y, x)\n",
        "\n",
        "# Second Order Derivative of Linear Activation Function\n",
        "def linear_double_derivative(x):\n",
        "    with tf.GradientTape() as tape:\n",
        "        tape.watch(x)\n",
        "        y = linear_derivative(x)\n",
        "    return tape.gradient(y, x)\n",
        "\n",
        "# Define a matrix to pass to the functions\n",
        "matrix = tf.constant([[1, 2, 3],\n",
        "                      [4, 5, 6],\n",
        "                      [7, 8, 9]], dtype=tf.float32)\n",
        "\n",
        "# Apply linear function to each element in the matrix\n",
        "linear_result = linear(matrix)\n",
        "print(\"Linear of the matrix:\")\n",
        "print(linear_result.numpy())\n",
        "\n",
        "# Apply linear derivative to each element in the matrix\n",
        "linear_derivative_result = linear_derivative(matrix)\n",
        "print(\"\\nLinear derivative of the matrix:\")\n",
        "print(linear_derivative_result.numpy())\n",
        "\n",
        "# Apply linear double derivative to each element in the matrix\n",
        "linear_double_derivative_result = linear_double_derivative(matrix)\n",
        "print(\"\\nLinear double derivative of the matrix:\")\n",
        "print(linear_double_derivative_result)\n"
      ],
      "metadata": {
        "colab": {
          "base_uri": "https://localhost:8080/"
        },
        "id": "7rmAYppcMu9V",
        "outputId": "0360d72c-7323-4551-d403-d3cb9415c4b4"
      },
      "execution_count": null,
      "outputs": [
        {
          "output_type": "stream",
          "name": "stdout",
          "text": [
            "Linear of the matrix:\n",
            "[[1. 2. 3.]\n",
            " [4. 5. 6.]\n",
            " [7. 8. 9.]]\n",
            "\n",
            "Linear derivative of the matrix:\n",
            "[[1. 1. 1.]\n",
            " [1. 1. 1.]\n",
            " [1. 1. 1.]]\n",
            "\n",
            "Linear double derivative of the matrix:\n",
            "None\n"
          ]
        }
      ]
    },
    {
      "cell_type": "code",
      "source": [
        "# Sigmoid Activation Function\n",
        "def sigmoid(x):\n",
        "    return 1 / (1 + tf.exp(-x))\n",
        "\n",
        "# First Order Derivative of Sigmoid\n",
        "def sigmoid_derivative(x):\n",
        "    with tf.GradientTape() as tape:\n",
        "        tape.watch(x)\n",
        "        y = sigmoid(x)\n",
        "    return tape.gradient(y, x)\n",
        "\n",
        "# Second Order Derivative of Sigmoid\n",
        "def sigmoid_double_derivative(x):\n",
        "    with tf.GradientTape() as tape1:\n",
        "        with tf.GradientTape() as tape2:\n",
        "            tape1.watch(x)\n",
        "            tape2.watch(x)\n",
        "            y = sigmoid(x)\n",
        "        first_derivative = tape2.gradient(y, x)\n",
        "    second_derivative = tape1.gradient(first_derivative, x)\n",
        "    return second_derivative\n",
        "\n",
        "# Define a matrix to pass to the functions\n",
        "matrix = tf.constant([[1, 2, 3],\n",
        "                      [4, 5, 6],\n",
        "                      [7, 8, 9]], dtype=tf.float32)\n",
        "\n",
        "# Apply sigmoid function to each element in the matrix\n",
        "sigmoid_result = sigmoid(matrix)\n",
        "print(\"Sigmoid of the matrix:\")\n",
        "print(sigmoid_result.numpy())\n",
        "\n",
        "# Apply sigmoid derivative to each element in the matrix\n",
        "sigmoid_derivative_result = sigmoid_derivative(matrix)\n",
        "print(\"\\nSigmoid derivative of the matrix:\")\n",
        "print(sigmoid_derivative_result.numpy())\n",
        "\n",
        "# Apply sigmoid double derivative to each element in the matrix\n",
        "sigmoid_double_derivative_result = sigmoid_double_derivative(matrix)\n",
        "print(\"\\nSigmoid double derivative of the matrix:\")\n",
        "print(sigmoid_double_derivative_result.numpy())\n"
      ],
      "metadata": {
        "colab": {
          "base_uri": "https://localhost:8080/"
        },
        "id": "pXJzQLG2MNlT",
        "outputId": "a2987d55-44f3-421c-8def-6e43769f84c3"
      },
      "execution_count": null,
      "outputs": [
        {
          "output_type": "stream",
          "name": "stdout",
          "text": [
            "Sigmoid of the matrix:\n",
            "[[0.7310586  0.880797   0.95257413]\n",
            " [0.98201376 0.9933072  0.9975274 ]\n",
            " [0.999089   0.99966466 0.9998766 ]]\n",
            "\n",
            "Sigmoid derivative of the matrix:\n",
            "[[1.96611941e-01 1.04993574e-01 4.51766625e-02]\n",
            " [1.76627059e-02 6.64805667e-03 2.46650958e-03]\n",
            " [9.10221308e-04 3.35237681e-04 1.23379359e-04]]\n",
            "\n",
            "Sigmoid double derivative of the matrix:\n",
            "[[-0.09085775 -0.07996249 -0.04089158]\n",
            " [-0.01702734 -0.00655907 -0.00245431]\n",
            " [-0.00090856 -0.00033501 -0.00012335]]\n"
          ]
        }
      ]
    },
    {
      "cell_type": "code",
      "source": [
        "# ReLU Activation Function\n",
        "def relu(x):\n",
        "    return tf.maximum(0, x)\n",
        "\n",
        "# First Order Derivative of ReLU Activation Function\n",
        "def relu_derivative(x):\n",
        "    return tf.cast(x > 0, dtype=tf.float32)\n",
        "\n",
        "# Second Order Derivative of ReLU Activation Function\n",
        "def relu_double_derivative(x):\n",
        "    return tf.zeros_like(x, dtype=tf.float32)\n",
        "\n",
        "# Define a matrix to pass to the functions\n",
        "matrix = tf.constant([[1, 2, 3],\n",
        "                      [-4, 5, -6],\n",
        "                      [7, -8, 9]], dtype=tf.float32)\n",
        "\n",
        "# Apply ReLU function to each element in the matrix\n",
        "relu_result = relu(matrix)\n",
        "print(\"ReLU of the matrix:\")\n",
        "print(relu_result.numpy())\n",
        "\n",
        "# Apply ReLU derivative to each element in the matrix\n",
        "relu_derivative_result = relu_derivative(matrix)\n",
        "print(\"\\nReLU derivative of the matrix:\")\n",
        "print(relu_derivative_result.numpy())\n",
        "\n",
        "# Apply ReLU double derivative to each element in the matrix\n",
        "relu_double_derivative_result = relu_double_derivative(matrix)\n",
        "print(\"\\nReLU double derivative of the matrix:\")\n",
        "print(relu_double_derivative_result.numpy())\n"
      ],
      "metadata": {
        "colab": {
          "base_uri": "https://localhost:8080/"
        },
        "id": "L8cx3QIUNrE7",
        "outputId": "e924e137-8f09-4df1-8490-677781259f76"
      },
      "execution_count": null,
      "outputs": [
        {
          "output_type": "stream",
          "name": "stdout",
          "text": [
            "ReLU of the matrix:\n",
            "[[1. 2. 3.]\n",
            " [0. 5. 0.]\n",
            " [7. 0. 9.]]\n",
            "\n",
            "ReLU derivative of the matrix:\n",
            "[[1. 1. 1.]\n",
            " [0. 1. 0.]\n",
            " [1. 0. 1.]]\n",
            "\n",
            "ReLU double derivative of the matrix:\n",
            "[[0. 0. 0.]\n",
            " [0. 0. 0.]\n",
            " [0. 0. 0.]]\n"
          ]
        }
      ]
    },
    {
      "cell_type": "code",
      "source": [
        "# Tanh Activation Function\n",
        "def tanh(x):\n",
        "    return tf.math.tanh(x)\n",
        "\n",
        "# First Order Derivative of Tanh Activation Function\n",
        "def tanh_derivative(x):\n",
        "    with tf.GradientTape() as tape:\n",
        "        tape.watch(x)\n",
        "        y = tanh(x)\n",
        "    return tape.gradient(y, x)\n",
        "\n",
        "# Second Order Derivative of Tanh Activation Function\n",
        "def tanh_double_derivative(x):\n",
        "    with tf.GradientTape() as tape1:\n",
        "        with tf.GradientTape() as tape2:\n",
        "            tape1.watch(x)\n",
        "            tape2.watch(x)\n",
        "            y = tanh_derivative(x)\n",
        "        first_derivative = tape2.gradient(y, x)\n",
        "    second_derivative = tape1.gradient(first_derivative, x)\n",
        "    return second_derivative\n",
        "\n",
        "# Define a matrix to pass to the functions\n",
        "matrix = tf.constant([[1, 2, 3],\n",
        "                      [-4, 5, -6],\n",
        "                      [7, -8, 9]], dtype=tf.float32)\n",
        "\n",
        "# Apply tanh function to each element in the matrix\n",
        "tanh_result = tanh(matrix)\n",
        "print(\"Tanh of the matrix:\")\n",
        "print(tanh_result.numpy())\n",
        "\n",
        "# Apply tanh derivative to each element in the matrix\n",
        "tanh_derivative_result = tanh_derivative(matrix)\n",
        "print(\"\\nTanh derivative of the matrix:\")\n",
        "print(tanh_derivative_result.numpy())\n",
        "\n",
        "# Apply tanh double derivative to each element in the matrix\n",
        "tanh_double_derivative_result = tanh_double_derivative(matrix)\n",
        "print(\"\\nTanh double derivative of the matrix:\")\n",
        "print(tanh_double_derivative_result.numpy())\n"
      ],
      "metadata": {
        "colab": {
          "base_uri": "https://localhost:8080/"
        },
        "id": "LnkqMaKCNswi",
        "outputId": "bff293bb-66b3-4511-aad8-91c4a27be6bd"
      },
      "execution_count": null,
      "outputs": [
        {
          "output_type": "stream",
          "name": "stdout",
          "text": [
            "Tanh of the matrix:\n",
            "[[ 0.7615942   0.9640276   0.9950547 ]\n",
            " [-0.9993292   0.99990916 -0.99998784]\n",
            " [ 0.99999833 -1.          1.        ]]\n",
            "\n",
            "Tanh derivative of the matrix:\n",
            "[[4.1997433e-01 7.0650816e-02 9.8661184e-03]\n",
            " [1.3411045e-03 1.8167496e-04 2.4318695e-05]\n",
            " [3.3378601e-06 0.0000000e+00 0.0000000e+00]]\n",
            "\n",
            "Tanh double derivative of the matrix:\n",
            "[[6.2162668e-01 2.5265405e-01 3.8880430e-02]\n",
            " [5.3536268e-03 7.2650181e-04 9.7271230e-05]\n",
            " [1.3351373e-05 0.0000000e+00 0.0000000e+00]]\n"
          ]
        }
      ]
    }
  ]
}