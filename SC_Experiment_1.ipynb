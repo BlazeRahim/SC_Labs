{
  "cells": [
    {
      "cell_type": "code",
      "execution_count": null,
      "id": "39cf32a0-c86f-4b3d-bd91-1db87af4faf8",
      "metadata": {
        "id": "39cf32a0-c86f-4b3d-bd91-1db87af4faf8"
      },
      "outputs": [],
      "source": [
        "import numpy as np"
      ]
    },
    {
      "cell_type": "markdown",
      "id": "bb459d2d-a52c-42b1-8dcf-674a53f1616d",
      "metadata": {
        "id": "bb459d2d-a52c-42b1-8dcf-674a53f1616d"
      },
      "source": [
        "#### AND Gate"
      ]
    },
    {
      "cell_type": "code",
      "execution_count": null,
      "id": "3b116df3-aa7d-4719-8f19-0bc78a443f2e",
      "metadata": {
        "colab": {
          "base_uri": "https://localhost:8080/"
        },
        "id": "3b116df3-aa7d-4719-8f19-0bc78a443f2e",
        "outputId": "fac56f3a-9d97-48a2-b49e-9562078fa1ce"
      },
      "outputs": [
        {
          "output_type": "stream",
          "name": "stdout",
          "text": [
            "Input shape: (2, 4) \n",
            "\n",
            "A_0:\n",
            " [[1. 1. 1. 1.]\n",
            " [0. 0. 1. 1.]\n",
            " [0. 1. 0. 1.]] \n",
            "\n",
            "Weights:  [[-1  1  1]] \n",
            "\n",
            "Z_1:  [-1.  0.  0.  1.] \n",
            "\n",
            "y_pred:  [0, 0, 0, 1] \n",
            "\n"
          ]
        }
      ],
      "source": [
        "## Input Data\n",
        "X = np.array([[0, 0], [0, 1], [1, 0], [1, 1]]).T\n",
        "print('Input shape:', X.shape, '\\n')\n",
        "\n",
        "## Adding Bias\n",
        "A = np.vstack((np.ones((1, X.shape[1])), X))\n",
        "print('A_0:\\n', A,'\\n')\n",
        "\n",
        "## Weights\n",
        "W = np.array([[-1, 1, 1]])\n",
        "print('Weights: ', W, '\\n')\n",
        "\n",
        "## Calculate Output\n",
        "Z = (W @ A).ravel()\n",
        "print('Z_1: ', Z, '\\n')\n",
        "\n",
        "y_pred = [int(z > 0) for z in Z]\n",
        "print('y_pred: ', y_pred, '\\n')"
      ]
    },
    {
      "cell_type": "markdown",
      "id": "e47c914e-37db-4b1c-87e8-b8502853cb83",
      "metadata": {
        "id": "e47c914e-37db-4b1c-87e8-b8502853cb83"
      },
      "source": [
        "#### OR Gate"
      ]
    },
    {
      "cell_type": "code",
      "execution_count": null,
      "id": "a1357ab8",
      "metadata": {
        "colab": {
          "base_uri": "https://localhost:8080/"
        },
        "id": "a1357ab8",
        "outputId": "8154d808-7383-4b10-8955-82b71d1bda17"
      },
      "outputs": [
        {
          "output_type": "stream",
          "name": "stdout",
          "text": [
            "Input shape: (2, 4) \n",
            "\n",
            "A_0:\n",
            " [[1. 1. 1. 1.]\n",
            " [0. 0. 1. 1.]\n",
            " [0. 1. 0. 1.]] \n",
            "\n",
            "Weights:  [[0 1 1]] \n",
            "\n",
            "Z_1:  [0. 1. 1. 2.] \n",
            "\n",
            "y_pred:  [0, 1, 1, 1] \n",
            "\n"
          ]
        }
      ],
      "source": [
        "## Input Data\n",
        "X = np.array([[0, 0], [0, 1], [1, 0], [1, 1]]).T\n",
        "print('Input shape:', X.shape, '\\n')\n",
        "\n",
        "## Adding Bias\n",
        "A = np.vstack((np.ones((1, X.shape[1])), X))\n",
        "print('A_0:\\n', A,'\\n')\n",
        "\n",
        "## Weights\n",
        "W = np.array([[0, 1, 1]])\n",
        "print('Weights: ', W, '\\n')\n",
        "\n",
        "## Calculate Output\n",
        "Z = (W @ A).ravel()\n",
        "print('Z_1: ', Z, '\\n')\n",
        "\n",
        "y_pred = [int(z > 0) for z in Z]\n",
        "print('y_pred: ', y_pred, '\\n')"
      ]
    },
    {
      "cell_type": "markdown",
      "id": "207ce45b-a9a1-44ca-95bd-495483100ae5",
      "metadata": {
        "id": "207ce45b-a9a1-44ca-95bd-495483100ae5"
      },
      "source": [
        "#### NOT Gate"
      ]
    },
    {
      "cell_type": "code",
      "execution_count": null,
      "id": "7855c08f",
      "metadata": {
        "colab": {
          "base_uri": "https://localhost:8080/"
        },
        "id": "7855c08f",
        "outputId": "0853c062-cd84-4f61-e2e5-70790c7e46e1"
      },
      "outputs": [
        {
          "output_type": "stream",
          "name": "stdout",
          "text": [
            "Input shape: (1, 2) \n",
            "\n",
            "A_0:\n",
            " [[1. 1.]\n",
            " [0. 1.]] \n",
            "\n",
            "Weights:  [[ 1 -1]] \n",
            "\n",
            "Z_1:  [1. 0.] \n",
            "\n",
            "y_pred:  [1, 0] \n",
            "\n"
          ]
        }
      ],
      "source": [
        "## Input Data\n",
        "X = np.array([[0], [1]]).T\n",
        "print('Input shape:', X.shape, '\\n')\n",
        "\n",
        "## Adding Bias\n",
        "A = np.vstack((np.ones((1, X.shape[1])), X))\n",
        "print('A_0:\\n', A,'\\n')\n",
        "\n",
        "## Weights\n",
        "W = np.array([[1, -1]])\n",
        "print('Weights: ', W, '\\n')\n",
        "\n",
        "## Calculate Output\n",
        "Z = (W @ A).ravel()\n",
        "print('Z_1: ', Z, '\\n')\n",
        "\n",
        "y_pred = [int(z > 0) for z in Z]\n",
        "print('y_pred: ', y_pred, '\\n')"
      ]
    }
  ],
  "metadata": {
    "kernelspec": {
      "display_name": "Python 3 (ipykernel)",
      "language": "python",
      "name": "python3"
    },
    "language_info": {
      "codemirror_mode": {
        "name": "ipython",
        "version": 3
      },
      "file_extension": ".py",
      "mimetype": "text/x-python",
      "name": "python",
      "nbconvert_exporter": "python",
      "pygments_lexer": "ipython3",
      "version": "3.10.13"
    },
    "colab": {
      "provenance": []
    }
  },
  "nbformat": 4,
  "nbformat_minor": 5
}