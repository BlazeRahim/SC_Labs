{
  "nbformat": 4,
  "nbformat_minor": 0,
  "metadata": {
    "colab": {
      "provenance": []
    },
    "kernelspec": {
      "name": "python3",
      "display_name": "Python 3"
    },
    "language_info": {
      "name": "python"
    }
  },
  "cells": [
    {
      "cell_type": "markdown",
      "source": [
        "**Experiment** **3**"
      ],
      "metadata": {
        "id": "ul1brIY7mWji"
      }
    },
    {
      "cell_type": "code",
      "source": [
        "import tensorflow as tf"
      ],
      "metadata": {
        "id": "YHDRA1D-mlgG"
      },
      "execution_count": null,
      "outputs": []
    },
    {
      "cell_type": "code",
      "execution_count": null,
      "metadata": {
        "id": "3DzGkvIrmUhm"
      },
      "outputs": [],
      "source": [
        "# Define constants with consistent data types\n",
        "a = tf.constant(5.0)  # Float constant\n",
        "b = tf.constant(3.0)  # Float constant\n",
        "c = tf.constant([1, 2, 3], dtype=tf.float32)  # 1D tensor\n",
        "d = tf.constant([[1, 2], [3, 4]], dtype=tf.float32)  # 2D tensor"
      ]
    },
    {
      "cell_type": "code",
      "source": [
        "# Basic operations\n",
        "addition = tf.add(a, b)\n",
        "subtraction = tf.subtract(a, b)\n",
        "multiplication = tf.multiply(a, b)\n",
        "division = tf.divide(a, b)\n",
        "matrix_multiplication = tf.matmul(d, d)"
      ],
      "metadata": {
        "id": "iqT-YgBHmfSP"
      },
      "execution_count": null,
      "outputs": []
    },
    {
      "cell_type": "code",
      "source": [
        "# Evaluate operations directly\n",
        "result_addition = addition.numpy()\n",
        "result_subtraction = subtraction.numpy()\n",
        "result_multiplication = multiplication.numpy()\n",
        "result_division = division.numpy()\n",
        "result_matrix_multiplication = matrix_multiplication.numpy()\n"
      ],
      "metadata": {
        "id": "1alwlFfzmf8h"
      },
      "execution_count": null,
      "outputs": []
    },
    {
      "cell_type": "code",
      "source": [
        "# Print results\n",
        "print(\"Addition:\", result_addition)\n",
        "print(\"Subtraction:\", result_subtraction)\n",
        "print(\"Multiplication:\", result_multiplication)\n",
        "print(\"Division:\", result_division)\n",
        "print(\"Matrix Multiplication:\")\n",
        "print(result_matrix_multiplication)\n"
      ],
      "metadata": {
        "colab": {
          "base_uri": "https://localhost:8080/"
        },
        "id": "R4s8hSFemocD",
        "outputId": "b4e112a2-0c42-4a55-c41e-1038d8384d1d"
      },
      "execution_count": null,
      "outputs": [
        {
          "output_type": "stream",
          "name": "stdout",
          "text": [
            "Addition: 8.0\n",
            "Subtraction: 2.0\n",
            "Multiplication: 15.0\n",
            "Division: 1.6666666\n",
            "Matrix Multiplication:\n",
            "[[ 7. 10.]\n",
            " [15. 22.]]\n"
          ]
        }
      ]
    }
  ]
}