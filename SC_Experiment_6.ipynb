{
  "cells": [
    {
      "cell_type": "markdown",
      "metadata": {
        "id": "tRB_EHGMJM_F"
      },
      "source": [
        "**Experiment 6**"
      ]
    },
    {
      "cell_type": "code",
      "execution_count": null,
      "metadata": {
        "id": "1WQWxNVfIcOg"
      },
      "outputs": [],
      "source": [
        "import numpy as np\n",
        "import tensorflow as tf\n",
        "import matplotlib.pyplot as plt"
      ]
    },
    {
      "cell_type": "code",
      "execution_count": null,
      "metadata": {
        "id": "LDqBB7iNIsNG"
      },
      "outputs": [],
      "source": [
        "X = np.array([[1, 1, -1],\n",
        "              [-1, 1, 0],], dtype=float)\n",
        "\n",
        "t = np.array([[1, 0, 1],], dtype=float)\n",
        "\n",
        "W_0 = np.array([[0, 0, 0],\n",
        "                [0, 0, 0]], dtype=float)\n",
        "\n",
        "W_1 = np.array([[0, 0, 0],], dtype=float)\n",
        "\n",
        "f_1 = 'Sigmoid'\n",
        "f_2 = 'Sigmoid'"
      ]
    },
    {
      "cell_type": "code",
      "execution_count": null,
      "metadata": {
        "id": "SMv3TXo6P0Nh"
      },
      "outputs": [],
      "source": [
        "lr = 1\n",
        "MAX_EPOCHS = 1"
      ]
    },
    {
      "cell_type": "code",
      "execution_count": null,
      "metadata": {
        "id": "6uR9yEK1_onb"
      },
      "outputs": [],
      "source": [
        "def Sigmoid(x, direction='F'):\n",
        "    if direction == 'F':\n",
        "        return 1/(1 + np.exp(-x))\n",
        "    else:\n",
        "        return Sigmoid(x, 'F')*(1-Sigmoid(x, 'F'))"
      ]
    },
    {
      "cell_type": "code",
      "execution_count": null,
      "metadata": {
        "colab": {
          "background_save": true,
          "base_uri": "https://localhost:8080/"
        },
        "id": "2NJIp66HIvmS",
        "outputId": "f2a9e211-ef4c-4b1e-f0ce-43f4678f0d7d"
      },
      "outputs": [
        {
          "name": "stdout",
          "output_type": "stream",
          "text": [
            "Pad bias at top of input\n",
            "[[ 1.  1.  1.]\n",
            " [ 1.  1. -1.]\n",
            " [-1.  1.  0.]]\n",
            "\n",
            "EPOCH- 1 ================================================================================\n",
            "0 (array([ 1.,  1., -1.]), array([1.]))\n",
            "\n",
            "ITER- 1 --------------------------------------------------------------------------------\n",
            "\n",
            " Input -> Hidden\n",
            "Z_1 = array([0., 0.])\n",
            "A_1 = array([0.5, 0.5])\n",
            "\n",
            " Hidden -> Output\n",
            "[0.5 0.5]\n",
            "1\n",
            "Z_2 = array([[0.]])\n",
            "A_2 = array([[0.5]])\n",
            "\n",
            "Error = array([[0.125]])\n",
            "\n",
            " Output -> Hidden\n",
            "dE_dw1 = array([[-0.125, -0.125,  0.125]])\n",
            "\n",
            " Hidden -> Input\n",
            "dE_dw0 = array([[0., 0., 0.],\n",
            "       [0., 0., 0.]])\n",
            "W_1 = array([[ 0.125,  0.125, -0.125]])\n",
            "W_0 = array([[0., 0., 0.],\n",
            "       [0., 0., 0.]])\n",
            "1 (array([1., 1., 1.]), array([0.]))\n",
            "\n",
            "ITER- 2 --------------------------------------------------------------------------------\n",
            "\n",
            " Input -> Hidden\n",
            "Z_1 = array([0., 0.])\n",
            "A_1 = array([0.5, 0.5])\n",
            "\n",
            " Hidden -> Output\n",
            "[0.5 0.5]\n",
            "1\n",
            "Z_2 = array([[0.125]])\n",
            "A_2 = array([[0.53120937]])\n",
            "\n",
            "Error = array([[0.1410917]])\n",
            "\n",
            " Output -> Hidden\n",
            "dE_dw1 = array([[0.13228493, 0.13228493, 0.13228493]])\n",
            "\n",
            " Hidden -> Input\n",
            "dE_dw0 = array([[ 0.0041339,  0.0041339, -0.0041339],\n",
            "       [ 0.0041339,  0.0041339, -0.0041339]])\n",
            "W_1 = array([[-0.00728493, -0.00728493, -0.25728493]])\n",
            "W_0 = array([[-0.0041339, -0.0041339,  0.0041339],\n",
            "       [-0.0041339, -0.0041339,  0.0041339]])\n",
            "2 (array([ 1., -1.,  0.]), array([1.]))\n",
            "\n",
            "ITER- 3 --------------------------------------------------------------------------------\n",
            "\n",
            " Input -> Hidden\n",
            "Z_1 = array([0., 0.])\n",
            "A_1 = array([0.5, 0.5])\n",
            "\n",
            " Hidden -> Output\n",
            "[0.5 0.5]\n",
            "1\n",
            "Z_2 = array([[-0.13956986]])\n",
            "A_2 = array([[0.46516407]])\n",
            "\n",
            "Error = array([[0.14302474]])\n",
            "\n",
            " Output -> Hidden\n",
            "dE_dw1 = array([[-0.13305994,  0.13305994, -0.        ]])\n",
            "\n",
            " Hidden -> Input\n",
            "dE_dw0 = array([[-0.00024233, -0.00024233, -0.00855858],\n",
            "       [ 0.        ,  0.        ,  0.        ]])\n",
            "W_1 = array([[ 0.12577501, -0.14034487, -0.25728493]])\n",
            "W_0 = array([[-0.00389157, -0.00389157,  0.01269248],\n",
            "       [-0.0041339 , -0.0041339 ,  0.0041339 ]])\n"
          ]
        }
      ],
      "source": [
        "print('Pad bias at top of input')\n",
        "A_0 = np.vstack((np.ones((1, X.shape[1])), X))\n",
        "print(A_0)\n",
        "for ep in range(MAX_EPOCHS):\n",
        "    print('\\nEPOCH-', ep+1, '='*80)\n",
        "    for itr, (x, y) in enumerate(zip(A_0.T, t.T)):\n",
        "      print(itr, (x,y))\n",
        "        print('\\nITER-', itr+1, '-'*80)\n",
        "        ### Forward pass (Input -> Hidden)\n",
        "        print('\\n Input -> Hidden')\n",
        "        Z_1 = W_0 @ x\n",
        "        print(f'{Z_1 = }')\n",
        "        A_1 = Sigmoid(Z_1)\n",
        "        print(f'{A_1 = }')\n",
        "        ### Forward pass (Hidden -> Output)\n",
        "        print('\\n Hidden -> Output')\n",
        "        print(A_1)\n",
        "        Z_2 = W_1 @ np.vstack((np.ones((1, A_1.reshape(-1, 1).shape[1])), A_1.reshape(-1, 1)))\n",
        "        print(f'{Z_2 = }')\n",
        "        A_2 = Sigmoid(Z_2)\n",
        "        print(f'{A_2 = }')\n",
        "\n",
        "        ### Backward pass (Output -> Hidden)\n",
        "        Error = 0.5*(A_2 - y)**2\n",
        "        print(f'\\n{Error = }')\n",
        "\n",
        "        print('\\n Output -> Hidden')\n",
        "        dE_dw1 = (A_2 - y) * Sigmoid(Z_2, 'B') * x\n",
        "        print(f'{dE_dw1 = }')\n",
        "\n",
        "        ### Backward pass  (Hidden -> Input)\n",
        "        print('\\n Hidden -> Input')\n",
        "        dE_dw0 = (A_2 - y) * Sigmoid(Z_2, 'B') * (Sigmoid(Z_1, 'B') * x[1:]).reshape(-1, 1) @ W_1\n",
        "        print(f'{dE_dw0 = }')\n",
        "\n",
        "        ### Update weights\n",
        "        W_1 = W_1 - lr*dE_dw1\n",
        "        print(f'{W_1 = }')\n",
        "        W_0 = W_0 - lr*dE_dw0\n",
        "        print(f'{W_0 = }')"
      ]
    }
  ],
  "metadata": {
    "colab": {
      "provenance": []
    },
    "kernelspec": {
      "display_name": "Python 3",
      "name": "python3"
    },
    "language_info": {
      "name": "python"
    }
  },
  "nbformat": 4,
  "nbformat_minor": 0
}