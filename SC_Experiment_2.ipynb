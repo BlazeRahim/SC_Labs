{
  "nbformat": 4,
  "nbformat_minor": 0,
  "metadata": {
    "colab": {
      "provenance": []
    },
    "kernelspec": {
      "name": "python3",
      "display_name": "Python 3"
    },
    "language_info": {
      "name": "python"
    }
  },
  "cells": [
    {
      "cell_type": "markdown",
      "source": [
        "**Experiment 2**"
      ],
      "metadata": {
        "id": "2b6lXcBSj-uE"
      }
    },
    {
      "cell_type": "code",
      "source": [
        "import numpy as np"
      ],
      "metadata": {
        "id": "2F1omCZTjAuG"
      },
      "execution_count": null,
      "outputs": []
    },
    {
      "cell_type": "code",
      "execution_count": null,
      "metadata": {
        "id": "4EGMlhiZi7R0"
      },
      "outputs": [],
      "source": [
        "def step_function(x):\n",
        "    return 1 if x >= 0 else 0\n",
        "\n",
        "def train_perceptron(training_inputs, labels, learning_rate=0.1, epochs=100):\n",
        "    input_size = training_inputs.shape[1]\n",
        "    weights = np.zeros(input_size)\n",
        "    bias = 0\n",
        "\n",
        "    for _ in range(epochs):\n",
        "        for inputs, label in zip(training_inputs, labels):\n",
        "            weighted_sum = np.dot(inputs, weights) + bias\n",
        "            prediction = step_function(weighted_sum)\n",
        "            weights += learning_rate * (label - prediction) * inputs\n",
        "            bias += learning_rate * (label - prediction)\n",
        "\n",
        "    return weights, bias\n",
        "\n",
        "def test_perceptron(weights, bias, test_inputs):\n",
        "    predictions = []\n",
        "    for inputs in test_inputs:\n",
        "        weighted_sum = np.dot(inputs, weights) + bias\n",
        "        predictions.append(step_function(weighted_sum))\n",
        "    return predictions"
      ]
    },
    {
      "cell_type": "code",
      "source": [
        "# Training data for NOT gate\n",
        "not_training_inputs = np.array([[0], [1]])\n",
        "not_labels = np.array([1, 0])"
      ],
      "metadata": {
        "id": "yOyfbKNXjJm4"
      },
      "execution_count": null,
      "outputs": []
    },
    {
      "cell_type": "code",
      "source": [
        "# Training data for OR gate\n",
        "or_training_inputs = np.array([[0, 0], [0, 1], [1, 0], [1, 1]])\n",
        "or_labels = np.array([0, 1, 1, 1])"
      ],
      "metadata": {
        "id": "gi81vb7hjIFE"
      },
      "execution_count": null,
      "outputs": []
    },
    {
      "cell_type": "code",
      "source": [
        "# Training data for AND gate\n",
        "and_training_inputs = np.array([[0, 0], [0, 1], [1, 0], [1, 1]])\n",
        "and_labels = np.array([0, 0, 0, 1])\n"
      ],
      "metadata": {
        "id": "gISkK8lZjE1w"
      },
      "execution_count": null,
      "outputs": []
    },
    {
      "cell_type": "code",
      "source": [
        "# Train perceptrons\n",
        "and_weights, and_bias = train_perceptron(and_training_inputs, and_labels)\n",
        "or_weights, or_bias = train_perceptron(or_training_inputs, or_labels)\n",
        "not_weights, not_bias = train_perceptron(not_training_inputs, not_labels)\n",
        "\n",
        "# Test perceptrons\n",
        "test_inputs = {\n",
        "    \"AND\": np.array([[0, 0], [1, 1], [1, 0], [1, 1]]),\n",
        "    \"OR\": np.array([[0, 0], [0, 1], [1, 0], [1, 1]]),\n",
        "    \"NOT\": np.array([[0], [1]])\n",
        "}"
      ],
      "metadata": {
        "id": "BY2ZvzwUjK8G"
      },
      "execution_count": null,
      "outputs": []
    },
    {
      "cell_type": "code",
      "source": [
        "print(\"AND Gate:\")\n",
        "and_predictions = test_perceptron(and_weights, and_bias, test_inputs[\"AND\"])\n",
        "for inputs, prediction in zip(test_inputs[\"AND\"], and_predictions):\n",
        "    print(f\"Input: {inputs}, Predicted Output: {prediction}\")\n",
        "\n",
        "print(\"\\nOR Gate:\")\n",
        "or_predictions = test_perceptron(or_weights, or_bias, test_inputs[\"OR\"])\n",
        "for inputs, prediction in zip(test_inputs[\"OR\"], or_predictions):\n",
        "    print(f\"Input: {inputs}, Predicted Output: {prediction}\")\n",
        "\n",
        "print(\"\\nNOT Gate:\")\n",
        "not_predictions = test_perceptron(not_weights, not_bias, test_inputs[\"NOT\"])\n",
        "for inputs, prediction in zip(test_inputs[\"NOT\"], not_predictions):\n",
        "    print(f\"Input: {inputs}, Predicted Output: {prediction}\")"
      ],
      "metadata": {
        "colab": {
          "base_uri": "https://localhost:8080/"
        },
        "id": "ypHuR3LijSiV",
        "outputId": "11fbb2b0-ac8d-497a-a85a-7dd4342e18a5"
      },
      "execution_count": null,
      "outputs": [
        {
          "output_type": "stream",
          "name": "stdout",
          "text": [
            "AND Gate:\n",
            "Input: [0 0], Predicted Output: 0\n",
            "Input: [1 1], Predicted Output: 1\n",
            "Input: [1 0], Predicted Output: 0\n",
            "Input: [1 1], Predicted Output: 1\n",
            "\n",
            "OR Gate:\n",
            "Input: [0 0], Predicted Output: 0\n",
            "Input: [0 1], Predicted Output: 1\n",
            "Input: [1 0], Predicted Output: 1\n",
            "Input: [1 1], Predicted Output: 1\n",
            "\n",
            "NOT Gate:\n",
            "Input: [0], Predicted Output: 1\n",
            "Input: [1], Predicted Output: 0\n"
          ]
        }
      ]
    }
  ]
}